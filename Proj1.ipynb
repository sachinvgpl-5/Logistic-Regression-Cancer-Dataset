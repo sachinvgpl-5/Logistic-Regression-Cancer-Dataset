{
 "cells": [
  {
   "cell_type": "code",
   "execution_count": 1,
   "metadata": {},
   "outputs": [],
   "source": [
    "import numpy as np\n",
    "import pandas as pd\n",
    "from sklearn import model_selection, preprocessing, metrics\n",
    "import matplotlib.pyplot as plt\n",
    "\n",
    "\n",
    "#read data set from file wdbc.dataset\n",
    "wdbcdata = pd.read_csv('wdbc.dataset',header=None)\n",
    "\n",
    "#separating the Y vector, dropping the id column. The values of the Diagnosis column will be used as our predictor variable.\n",
    "\n",
    "Y_data = wdbcdata.iloc[:][1]\n",
    "X_data = wdbcdata.drop(columns=[0,1])\n",
    "\n",
    "#resetting the column indices for the feature matrix\n",
    "X_data.columns = list(range(30))\n",
    "\n",
    "\n",
    "#replace values 'M' with 1 and 'B' with 0 respectively in the first column\n",
    "Y_data.replace(to_replace='M',value=1,inplace=True)\n",
    "Y_data.replace(to_replace='B',value=0,inplace=True)\n",
    "\n",
    "\n",
    "# using sklearn train_test_split randomise and split the data into:\n",
    "# 80% : train\n",
    "# 10% test\n",
    "# 10%: validate\n",
    "\n",
    "X_train,X_test_and_validate,Y_train,Y_test_and_validate =\\\n",
    "model_selection.train_test_split(X_data,Y_data,train_size = .8)\n",
    "\n",
    "#splitting remaining data as test data and validate data\n",
    "X_test,X_validate,Y_test,Y_validate =\\\n",
    "model_selection.train_test_split(X_test_and_validate,Y_test_and_validate, train_size = .50)\n",
    "\n",
    "\n",
    "#normalise the partitioned features sets for training data, testing data and validation data\n",
    "\n",
    "min_max_scaler = preprocessing.MinMaxScaler()\n",
    "x_scaled = min_max_scaler.fit_transform(X_train)\n",
    "X_train = pd.DataFrame(x_scaled)\n",
    "\n",
    "x_scaled = min_max_scaler.fit_transform(X_test)\n",
    "X_test = pd.DataFrame(x_scaled)\n",
    "\n",
    "x_scaled = min_max_scaler.fit_transform(X_validate)\n",
    "X_validate = pd.DataFrame(x_scaled)\n",
    "\n",
    "#reset index of y columns to match x columns\n",
    "Y_train = pd.DataFrame(Y_train).reset_index(drop=True)\n",
    "Y_test = pd.DataFrame(Y_test).reset_index(drop=True)\n",
    "Y_validate = pd.DataFrame(Y_validate).reset_index(drop=True)\n",
    "\n",
    "\n",
    "#setting the seed value for random weights generated\n",
    "np.random.seed(42)"
   ]
  },
  {
   "cell_type": "code",
   "execution_count": 2,
   "metadata": {},
   "outputs": [],
   "source": [
    "#Defining sigmoid function to map value to 0 or 1\n",
    "def sigmoid(z):\n",
    "    return 1 / (1 + np.exp(-z))"
   ]
  },
  {
   "cell_type": "code",
   "execution_count": 3,
   "metadata": {},
   "outputs": [],
   "source": [
    "#define a function to train the model\n",
    "def train_model(epochs, learning_rate):\n",
    "    \n",
    "    #array to hold the loss values\n",
    "    loss = []\n",
    "    \n",
    "    #array to hold the validation loss values\n",
    "    val_loss = []\n",
    "    \n",
    "    #array to hold the accuracy scores for training data\n",
    "    train_accuracy = []\n",
    "    \n",
    "    #array to hold the accuracy scores for validation data\n",
    "    validate_accuracy = []    \n",
    "    \n",
    "    #training data\n",
    "    X = X_train.T\n",
    "    Y = Y_train.values.reshape(1, Y_train.shape[0])\n",
    "    number_of_samples = X.shape[1]\n",
    "    \n",
    "    #validation data\n",
    "    X_val = X_validate.T\n",
    "    Y_val = Y_validate.values.reshape(1, Y_validate.shape[0])\n",
    "    number_of_val_samples = X_val.shape[1]\n",
    "\n",
    "    \n",
    "    #define weight matrix and bias\n",
    "    w = np.random.randn(X.shape[0], 1)\n",
    "    b = 0\n",
    "\n",
    "    for epoch in range(epochs):\n",
    "        \n",
    "        #z = WX + b\n",
    "        z = np.dot(w.T, X) + b\n",
    "        \n",
    "        \n",
    "        #define predictor function for training data\n",
    "        p = sigmoid(z)\n",
    "        \n",
    "        \n",
    "        #calculate the cost at each epoch and update the loss list for training data\n",
    "        cost_training = -np.sum(np.multiply(Y,np.log(p)) + np.multiply((1-Y), np.log(1-p)))/number_of_samples\n",
    "       \n",
    "        \n",
    "        #calculate predicted values to plot accuracy score vs Epoch for training data\n",
    "        train_predict = [1 if (each >= 0.5) else 0 for each in p.flatten()]\n",
    "        \n",
    "        loss.append(cost_training.squeeze())        \n",
    "        \n",
    "        train_accuracy.append(metrics.accuracy_score(y_true = Y.flatten(),y_pred = train_predict))\n",
    "                        \n",
    "        #calculate the gradient and gradient descent    \n",
    "        dz = p-Y\n",
    "        dw = np.dot(X, dz.T)/number_of_samples\n",
    "        db = np.sum(dz)/number_of_samples\n",
    "        w = w - learning_rate*dw\n",
    "        b = b - learning_rate*db\n",
    "        \n",
    "        \n",
    "        #Validating the new values of hyperparameters using validation data\n",
    "        z_val = np.dot(w.T, X_val) + b\n",
    "        p_val = sigmoid(z_val)\n",
    "        cost_validating = -np.sum(np.multiply(Y_val, np.log(p_val)) + np.multiply((1-Y_val), np.log(1-p_val)))/number_of_val_samples\n",
    "        validate_predict = [1 if (each >= 0.5) else 0 for each in p_val.flatten()]\n",
    "        val_loss.append(cost_validating.squeeze())\n",
    "        validate_accuracy.append(metrics.accuracy_score(y_true = Y_val.flatten(), y_pred = validate_predict))\n",
    "    \n",
    "\n",
    "    #plot Loss vs Epoch for Training and Validation data sets\n",
    "    plt.plot(loss)\n",
    "    plt.plot(val_loss)\n",
    "    plt.title('Loss VS Epoch')\n",
    "    plt.xlabel('Epoch')\n",
    "    plt.ylabel('Loss')\n",
    "    plt.legend(['Training Loss', 'Validation Loss'], loc = 'upper right')\n",
    "    plt.show()\n",
    "\n",
    "    #plot Accuracy vs Epoch for Training and Validation data sets\n",
    "    plt.plot(train_accuracy)\n",
    "    plt.plot(validate_accuracy)\n",
    "    plt.title('Accuracy VS Epoch')\n",
    "    plt.xlabel('Epoch')\n",
    "    plt.ylabel('Accuracy')\n",
    "    plt.legend(['Training Accuracy', 'Validation Accuracy'], loc = 'lower right')\n",
    "    plt.show()\n",
    "    \n",
    "    #printing the final cost value for training and validation\n",
    "    print(\"\\nFinal value of cost for Training data: {0}\".format(cost_training))\n",
    "    \n",
    "    print(\"\\nFinal value of cost for Validation data: {0}\".format(cost_validating))\n",
    "    \n",
    "    return w, b"
   ]
  },
  {
   "cell_type": "code",
   "execution_count": 4,
   "metadata": {},
   "outputs": [
    {
     "data": {
      "image/png": "[encoded data removed]",
      "text/plain": [
       "<Figure size 432x288 with 1 Axes>"
      ]
     },
     "metadata": {},
     "output_type": "display_data"
    },
    {
     "data": {
      "image/png": "[encoded data removed]",
      "text/plain": [
       "<Figure size 432x288 with 1 Axes>"
      ]
     },
     "metadata": {},
     "output_type": "display_data"
    },
    {
     "name": "stdout",
     "output_type": "stream",
     "text": [
      "\n",
      "Final value of cost for Training data: 0.163719159665283\n",
      "\n",
      "Final value of cost for Validation data: 0.1623870775338209\n"
     ]
    }
   ],
   "source": [
    "#for an epoch value of 4000 learning rate of 0.07\n",
    "w, b = train_model(4000, 0.07)"
   ]
  },
  {
   "cell_type": "code",
   "execution_count": 5,
   "metadata": {},
   "outputs": [
    {
     "name": "stdout",
     "output_type": "stream",
     "text": [
      "\n",
      " W = \n",
      " [[ 0.93523232]\n",
      " [ 0.99443507]\n",
      " [ 1.19879153]\n",
      " [ 2.37959822]\n",
      " [-0.79170385]\n",
      " [ 0.61807785]\n",
      " [ 3.75124345]\n",
      " [ 3.11063631]\n",
      " [-0.68098024]\n",
      " [-0.62606123]\n",
      " [ 0.77317611]\n",
      " [-0.44683564]\n",
      " [ 1.26398661]\n",
      " [-1.0358544 ]\n",
      " [-1.66516787]\n",
      " [-0.50200765]\n",
      " [-1.02056987]\n",
      " [ 0.42460216]\n",
      " [-0.94748148]\n",
      " [-1.64018606]\n",
      " [ 2.85451037]\n",
      " [ 1.3848583 ]\n",
      " [ 1.4232341 ]\n",
      " [-0.07435318]\n",
      " [ 0.52214809]\n",
      " [ 1.32592855]\n",
      " [ 0.55170682]\n",
      " [ 2.7540049 ]\n",
      " [ 0.34295688]\n",
      " [ 0.13094861]], \n",
      "\n",
      "b = -5.975953828829845\n",
      "\n",
      "Accuracy Score = 0.9824561403508771\n",
      " Precision = 0.9583333333333334\n",
      " Recall = 1.0\n",
      "\n"
     ]
    }
   ],
   "source": [
    "#testing the parameters derived from training against the test data\n",
    "\n",
    "print(\"\\n W = \\n {0}, \\n\\nb = {1}\".format(w, b))\n",
    "\n",
    "\n",
    "#Metrics shown below are for epoch value of 4000 and learning rate of 0.07\n",
    "\n",
    "Y_test_prediction = np.dot(w.T, X_test.T) + b\n",
    "Y_test_result = [1 if each >= 0.5 else 0 for each in Y_test_prediction.flatten()]\n",
    "\n",
    "\n",
    "# Performance Metrics:\n",
    "accuracy = metrics.accuracy_score(y_true=Y_test, y_pred=Y_test_result)\n",
    "precision = metrics.precision_score(y_true=Y_test, y_pred=Y_test_result)\n",
    "recall = metrics.recall_score(y_true=Y_test, y_pred=Y_test_result)\n",
    "\n",
    "print(\"\\nAccuracy Score = {0}\\n Precision = {1}\\n Recall = {2}\\n\".format(accuracy, precision, recall))"
   ]
  },
  {
   "cell_type": "markdown",
   "metadata": {},
   "source": [
    "<h1> Printing Metrices </h1>"
   ]
  },
  {
   "cell_type": "markdown",
   "metadata": {},
   "source": [
    "<h2> ${Accuracy\\ Score} =  \\frac{TP+TN}{TP+TN+FP+FN}$ </h2>  <h4>where,  TP = True Positive, TN = True Negative, FP = False Positive, FN = False Negative <h4>"
   ]
  },
  {
   "cell_type": "code",
   "execution_count": 6,
   "metadata": {},
   "outputs": [
    {
     "data": {
      "text/plain": [
       "0.9824561403508771"
      ]
     },
     "execution_count": 6,
     "metadata": {},
     "output_type": "execute_result"
    }
   ],
   "source": [
    "accuracy"
   ]
  },
  {
   "cell_type": "markdown",
   "metadata": {},
   "source": [
    "<h2> ${Precision} =  \\frac{TP}{TP+FP}$ </h2>  <h4> where,  TP = True Positive, FP = False Positive<h4>"
   ]
  },
  {
   "cell_type": "code",
   "execution_count": 7,
   "metadata": {},
   "outputs": [
    {
     "data": {
      "text/plain": [
       "0.9583333333333334"
      ]
     },
     "execution_count": 7,
     "metadata": {},
     "output_type": "execute_result"
    }
   ],
   "source": [
    "precision"
   ]
  },
  {
   "cell_type": "markdown",
   "metadata": {},
   "source": [
    "<h2> ${Recall} =  \\frac{TP}{TP+FN}$ </h2>  <h4> where,  TP = True Positive, FN = False Negative <h4>"
   ]
  },
  {
   "cell_type": "code",
   "execution_count": 8,
   "metadata": {},
   "outputs": [
    {
     "data": {
      "text/plain": [
       "1.0"
      ]
     },
     "execution_count": 8,
     "metadata": {},
     "output_type": "execute_result"
    }
   ],
   "source": [
    "recall"
   ]
  }
 ],
 "metadata": {
  "kernelspec": {
   "display_name": "Python 3",
   "language": "python",
   "name": "python3"
  },
  "language_info": {
   "codemirror_mode": {
    "name": "ipython",
    "version": 3
   },
   "file_extension": ".py",
   "mimetype": "text/x-python",
   "name": "python",
   "nbconvert_exporter": "python",
   "pygments_lexer": "ipython3",
   "version": "3.6.5"
  }
 },
 "nbformat": 4,
 "nbformat_minor": 2
}
